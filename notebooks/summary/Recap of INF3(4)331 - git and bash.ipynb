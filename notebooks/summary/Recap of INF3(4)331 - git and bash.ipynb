{
 "cells": [
  {
   "cell_type": "markdown",
   "metadata": {},
   "source": [
    "## Summary of INF3331 and INF4331 course"
   ]
  },
  {
   "cell_type": "markdown",
   "metadata": {},
   "source": [
    "## Version control system: Git\n",
    "### Why\n",
    "* Collaboration\n",
    "* Storing versions\n",
    "* Restoring versions\n",
    "* Backup\n",
    "* Use cases: Latex documents (Master/PhD thesis, paper), software projects (open-source and proprietary) "
   ]
  },
  {
   "cell_type": "markdown",
   "metadata": {},
   "source": [
    "### Creating a repository\n",
    "\n",
    "We *initialise* an empty git repository with"
   ]
  },
  {
   "cell_type": "code",
   "execution_count": 1,
   "metadata": {
    "collapsed": false
   },
   "outputs": [
    {
     "name": "stdout",
     "output_type": "stream",
     "text": [
      "Initialised empty Git repository in /home/funsi/Documents/resources-15/doc/slides/src/2015/15_summary/project/.git/\r\n"
     ]
    }
   ],
   "source": [
    "rm -Rf project; mkdir project\n",
    "cd project\n",
    "git init ."
   ]
  },
  {
   "cell_type": "markdown",
   "metadata": {},
   "source": [
    "If we want to work with an existing repository we can *clone a remote*, for example from the web:\n",
    "\n",
    "```bash\n",
    "git clone https://github.com/UiO-INF3331/code_snippets.git\n",
    "```\n",
    "or from another local git repository:\n",
    "```bash\n",
    "git clone ~/src/my_project\n",
    "```\n",
    "\n",
    "Every git repository has a `.git` directory (the dot makes it a hidden directory) that contains all necessary repository files."
   ]
  },
  {
   "cell_type": "markdown",
   "metadata": {},
   "source": [
    "### Adding and committing files\n",
    "\n",
    "git seperates between three *areas* when adding changes to a repository:\n",
    "\n",
    "<img src=\"images/git_areas.png\" style=\"max-width:100%; width: 50%\">\n",
    "\n",
    "Making changes to a repository consists of *three steps*:\n",
    "1. Modify/Add files in the working directory\n",
    "2. Add files to the staging area\n",
    "3. Commit the files"
   ]
  },
  {
   "cell_type": "markdown",
   "metadata": {},
   "source": [
    "Use\n",
    "```bash\n",
    "git status\n",
    "```\n",
    "to list files that are modified in the working directory and on staging area.\n",
    "\n",
    "You can view the a *line-by-line difference between the working directory and staging area* with:\n",
    "\n",
    "```bash\n",
    "git diff\n",
    "```\n",
    "\n",
    "You can *add changes from the working directory to the staging area* with:\n",
    "\n",
    "```bash\n",
    "git add file.txt\n",
    "git add *py\n",
    "```\n",
    "This works both on *modified* and *new* files.  \n",
    "\n",
    "The files in the staging area can be *committed to the repository* with:\n",
    "\n",
    "```bash\n",
    "git commit -m \"Add file.text and the Python scripts\"\n",
    "```\n"
   ]
  },
  {
   "cell_type": "markdown",
   "metadata": {},
   "source": [
    "### Pull and push changes\n",
    "\n",
    "Download, and apply changes from the remote repository \n",
    "```bash\n",
    "git pull origin master\n",
    "```\n",
    "\n",
    "\n",
    "Upload all new commits to the remote repository\n",
    "```bash\n",
    "git push origin master\n",
    "```"
   ]
  },
  {
   "cell_type": "markdown",
   "metadata": {},
   "source": [
    "### Example"
   ]
  },
  {
   "cell_type": "code",
   "execution_count": 2,
   "metadata": {
    "collapsed": false
   },
   "outputs": [
    {
     "name": "stdout",
     "output_type": "stream",
     "text": [
      "../project:\r\n",
      "helloworld.py\r\n",
      "Readme.md\r\n"
     ]
    }
   ],
   "source": [
    "echo \"print 'Hallo world'\" > helloworld.py\n",
    "echo \"Hello world for Python\" > Readme.md\n",
    "ls -R1 ../project"
   ]
  },
  {
   "cell_type": "code",
   "execution_count": 3,
   "metadata": {
    "collapsed": false
   },
   "outputs": [
    {
     "name": "stdout",
     "output_type": "stream",
     "text": [
      "On branch master\r\n",
      "\r\n",
      "Initial commit\r\n",
      "\r\n",
      "Untracked files:\r\n",
      "  (use \"git add <file>...\" to include in what will be committed)\r\n",
      "\r\n",
      "\t\u001b[36mReadme.md\u001b[m\r\n",
      "\t\u001b[36mhelloworld.py\u001b[m\r\n",
      "\r\n",
      "nothing added to commit but untracked files present (use \"git add\" to track)\r\n"
     ]
    }
   ],
   "source": [
    "git status"
   ]
  },
  {
   "cell_type": "code",
   "execution_count": 4,
   "metadata": {
    "collapsed": false
   },
   "outputs": [
    {
     "name": "stdout",
     "output_type": "stream",
     "text": []
    }
   ],
   "source": [
    "git add Readme.md\n",
    "git add *py"
   ]
  },
  {
   "cell_type": "code",
   "execution_count": 5,
   "metadata": {
    "collapsed": false
   },
   "outputs": [
    {
     "name": "stdout",
     "output_type": "stream",
     "text": [
      "On branch master\r\n",
      "\r\n",
      "Initial commit\r\n",
      "\r\n",
      "Changes to be committed:\r\n",
      "  (use \"git rm --cached <file>...\" to unstage)\r\n",
      "\r\n",
      "\t\u001b[33mnew file:   Readme.md\u001b[m\r\n",
      "\t\u001b[33mnew file:   helloworld.py\u001b[m\r\n",
      "\r\n"
     ]
    }
   ],
   "source": [
    "git status"
   ]
  },
  {
   "cell_type": "code",
   "execution_count": 6,
   "metadata": {
    "collapsed": false
   },
   "outputs": [
    {
     "name": "stdout",
     "output_type": "stream",
     "text": [
      "[master (root-commit) 4d212d6] Add a hello world program and a Readme file\r\n",
      " 2 files changed, 2 insertions(+)\r\n",
      " create mode 100644 Readme.md\r\n",
      " create mode 100644 helloworld.py\r\n"
     ]
    }
   ],
   "source": [
    "git commit -m \"Add a hello world program and a Readme file\""
   ]
  },
  {
   "cell_type": "markdown",
   "metadata": {},
   "source": [
    "Let us modify the files again:"
   ]
  },
  {
   "cell_type": "code",
   "execution_count": 7,
   "metadata": {
    "collapsed": false
   },
   "outputs": [
    {
     "name": "stdout",
     "output_type": "stream",
     "text": []
    }
   ],
   "source": [
    "echo \"Run with python helloworld.py\" >> Readme.md\n",
    "echo \"# A sample comment\" >> helloworld.py"
   ]
  },
  {
   "cell_type": "code",
   "execution_count": 8,
   "metadata": {
    "collapsed": false
   },
   "outputs": [
    {
     "name": "stdout",
     "output_type": "stream",
     "text": [
      "On branch master\r\n",
      "Changes not staged for commit:\r\n",
      "  (use \"git add <file>...\" to update what will be committed)\r\n",
      "  (use \"git checkout -- <file>...\" to discard changes in working directory)\r\n",
      "\r\n",
      "\t\u001b[32mmodified:   Readme.md\u001b[m\r\n",
      "\t\u001b[32mmodified:   helloworld.py\u001b[m\r\n",
      "\r\n",
      "no changes added to commit (use \"git add\" and/or \"git commit -a\")\r\n"
     ]
    }
   ],
   "source": [
    "git status"
   ]
  },
  {
   "cell_type": "code",
   "execution_count": 9,
   "metadata": {
    "collapsed": false
   },
   "outputs": [
    {
     "name": "stdout",
     "output_type": "stream",
     "text": [
      "\u001b[?1h\u001b=\r",
      "\u001b[1;33mdiff --git a/Readme.md b/Readme.md\u001b[m\u001b[m\r\n",
      "\u001b[1;33mindex 1553fac..b617deb 100644\u001b[m\u001b[m\r\n",
      "\u001b[1;33m--- a/Readme.md\u001b[m\u001b[m\r\n",
      "\u001b[1;33m+++ b/Readme.md\u001b[m\u001b[m\r\n",
      "\u001b[1;35m@@ -1 +1,2 @@\u001b[m\u001b[m\r\n",
      " Hello world for Python\u001b[m\u001b[m\r\n",
      "\u001b[1;32m+\u001b[m\u001b[1;32mRun with python helloworld.py\u001b[m\u001b[m\r\n",
      "\u001b[1;33mdiff --git a/helloworld.py b/helloworld.py\u001b[m\u001b[m\r\n",
      "\u001b[1;33mindex 32066b0..a8f5316 100644\u001b[m\u001b[m\r\n",
      "\u001b[1;33m--- a/helloworld.py\u001b[m\u001b[m\r\n",
      "\u001b[1;33m+++ b/helloworld.py\u001b[m\u001b[m\r\n",
      "\u001b[1;35m@@ -1 +1,2 @@\u001b[m\u001b[m\r\n",
      " print 'Hallo world'\u001b[m\u001b[m\r\n",
      "\u001b[1;32m+\u001b[m\u001b[1;32m# A sample comment\u001b[m\u001b[m\r\n",
      "\r",
      "\u001b[K\u001b[?1l\u001b>"
     ]
    }
   ],
   "source": [
    "git diff"
   ]
  },
  {
   "cell_type": "code",
   "execution_count": 10,
   "metadata": {
    "collapsed": false
   },
   "outputs": [
    {
     "name": "stdout",
     "output_type": "stream",
     "text": []
    }
   ],
   "source": [
    "git add Readme.md"
   ]
  },
  {
   "cell_type": "code",
   "execution_count": 11,
   "metadata": {
    "collapsed": false
   },
   "outputs": [
    {
     "name": "stdout",
     "output_type": "stream",
     "text": [
      "On branch master\r\n",
      "Changes to be committed:\r\n",
      "  (use \"git reset HEAD <file>...\" to unstage)\r\n",
      "\r\n",
      "\t\u001b[33mmodified:   Readme.md\u001b[m\r\n",
      "\r\n",
      "Changes not staged for commit:\r\n",
      "  (use \"git add <file>...\" to update what will be committed)\r\n",
      "  (use \"git checkout -- <file>...\" to discard changes in working directory)\r\n",
      "\r\n",
      "\t\u001b[32mmodified:   helloworld.py\u001b[m\r\n",
      "\r\n"
     ]
    }
   ],
   "source": [
    "git status"
   ]
  },
  {
   "cell_type": "code",
   "execution_count": 12,
   "metadata": {
    "collapsed": false
   },
   "outputs": [
    {
     "name": "stdout",
     "output_type": "stream",
     "text": [
      "[master f71a9c5] Add an installation instruction\r\n",
      " 1 file changed, 1 insertion(+)\r\n"
     ]
    }
   ],
   "source": [
    "git commit -m \"Add an installation instruction\""
   ]
  },
  {
   "cell_type": "code",
   "execution_count": 13,
   "metadata": {
    "collapsed": false
   },
   "outputs": [
    {
     "name": "stdout",
     "output_type": "stream",
     "text": [
      "On branch master\r\n",
      "Changes not staged for commit:\r\n",
      "  (use \"git add <file>...\" to update what will be committed)\r\n",
      "  (use \"git checkout -- <file>...\" to discard changes in working directory)\r\n",
      "\r\n",
      "\t\u001b[32mmodified:   helloworld.py\u001b[m\r\n",
      "\r\n",
      "no changes added to commit (use \"git add\" and/or \"git commit -a\")\r\n"
     ]
    }
   ],
   "source": [
    "git status"
   ]
  },
  {
   "cell_type": "markdown",
   "metadata": {},
   "source": [
    "### Useful to know\n",
    "\n",
    "\n",
    "* Typical workflow:\n",
    "  1. Make changes to a file\n",
    "  2. `git add file.txt`\n",
    "  3. `git commit`\n",
    "  4. `git pull`\n",
    "  5. `git push`\n",
    "\n",
    "* You can stage only a subset of the modifications to a file with:\n",
    "```bash\n",
    "git add --patch file.txt\n",
    "```\n",
    "\n",
    "* You can *unstage* changes with:\n",
    "```bash\n",
    "git reset HEAD file.txt\n",
    "```\n",
    "\n",
    "* You can stage all modified files in the working directory *and* commit them with\n",
    "```bash\n",
    "git commit -a -m \"Some commit message\"\n",
    "```\n",
    "\n",
    "* If you are unsure, create a copy of the entire directory (including the .git directory) - if something goes wrong you can always go back to that backup.\n",
    "\n",
    "* Never use `git reset --hard` and `git push --force` as you can loose data and create inconsistent repositories!\n",
    "\n",
    "* Get a pretty commit history of your repository with:\n",
    "   ```bash\n",
    "   git log --graph --oneline --decorate\n",
    "   ```"
   ]
  },
  {
   "cell_type": "markdown",
   "metadata": {},
   "source": [
    "### What to do/learn next?\n",
    "\n",
    "* Set up a graphical difftool, for example `meld`:\n",
    "  <img src=\"images/meld.png\" style=\"max-width:100%; width: 50%\">\n",
    "  Setup instructions:\n",
    "  ```bash\n",
    "  git config --global diff.tool meld\n",
    "  git difftool\n",
    "  ```\n",
    "* Add a `.gitignore` file let git automatically ignore certain files (e.g. pyc files).\n",
    "* Learn how to use `git branches`\n",
    "* Learn `git stash`, `git revert`, `git reset`, ..."
   ]
  },
  {
   "cell_type": "markdown",
   "metadata": {},
   "source": [
    "## Scripting: Bash\n",
    "\n",
    "### Why\n",
    "* Available on most UNIX systems\n",
    "* You are already using it\n",
    "* Simple and fast way to get things done\n",
    "* Good for file management, communicating and piping between programs, rapid prototyping, simple output\n",
    "* Use-cases: Automation of simple tasks, system administration, web application deployment, data crunching, auomated backups"
   ]
  },
  {
   "cell_type": "markdown",
   "metadata": {},
   "source": [
    "### Examples"
   ]
  },
  {
   "cell_type": "markdown",
   "metadata": {},
   "source": [
    "Bash variables"
   ]
  },
  {
   "cell_type": "code",
   "execution_count": 1,
   "metadata": {
    "collapsed": false
   },
   "outputs": [
    {
     "name": "stdout",
     "output_type": "stream",
     "text": [
      "The answer is 42\r\n"
     ]
    }
   ],
   "source": [
    "s=42\n",
    "echo \"The answer is $s\""
   ]
  },
  {
   "cell_type": "code",
   "execution_count": 51,
   "metadata": {
    "collapsed": false
   },
   "outputs": [
    {
     "name": "stdout",
     "output_type": "stream",
     "text": [
      "The time is Tue Dec  1 07:31:33 CET 2015\r\n"
     ]
    }
   ],
   "source": [
    "time=`date`   # or time=$(date)\n",
    "echo \"The time is $time\""
   ]
  },
  {
   "cell_type": "markdown",
   "metadata": {},
   "source": [
    "Command line arguments:"
   ]
  },
  {
   "cell_type": "code",
   "execution_count": 19,
   "metadata": {
    "collapsed": false
   },
   "outputs": [
    {
     "name": "stdout",
     "output_type": "stream",
     "text": [
      "Command: /bin/bash\r\n",
      "First command line argument \r\n",
      "Second command line argument \r\n",
      "All command line arguments \r\n",
      "Exit of last executed command 0\r\n"
     ]
    }
   ],
   "source": [
    "echo \"Command: $0\n",
    "First command line argument $1\n",
    "Second command line argument $2\n",
    "All command line arguments $@\n",
    "Exit of last executed command $?\""
   ]
  },
  {
   "cell_type": "markdown",
   "metadata": {},
   "source": [
    "Conditionals:"
   ]
  },
  {
   "cell_type": "code",
   "execution_count": 22,
   "metadata": {
    "collapsed": false
   },
   "outputs": [
    {
     "name": "stdout",
     "output_type": "stream",
     "text": [
      "Last command was successful\r\n"
     ]
    }
   ],
   "source": [
    "if [ \"$?\" == \"0\" ]; then\n",
    "  echo \"Last command was successful\"\n",
    "fi"
   ]
  },
  {
   "cell_type": "markdown",
   "metadata": {},
   "source": [
    "Loops:"
   ]
  },
  {
   "cell_type": "code",
   "execution_count": 24,
   "metadata": {
    "collapsed": false
   },
   "outputs": [
    {
     "name": "stdout",
     "output_type": "stream",
     "text": [
      "images/git_areas.png\r\n",
      "images/meld.png\r\n"
     ]
    }
   ],
   "source": [
    "files=`ls images/*`\n",
    "for f in $files; do echo \"$f\"; done"
   ]
  },
  {
   "cell_type": "markdown",
   "metadata": {},
   "source": [
    "Combining Bash commands: Piping"
   ]
  },
  {
   "cell_type": "code",
   "execution_count": 28,
   "metadata": {
    "collapsed": false
   },
   "outputs": [
    {
     "name": "stdout",
     "output_type": "stream",
     "text": [
      "17856\t..\r\n",
      "8420\t../13\r\n",
      "8364\t../13/Rhinoceros.png\r\n",
      "5944\t../num_itg.eps\r\n",
      "2116\t../14_introduction_to_scikit_learn\r\n",
      "1652\t../14_introduction_to_scikit_learn/02.2-Basic-Principles.ipynb\r\n",
      "456\t../15_summary\r\n",
      "380\t../snippets\r\n",
      "268\t../14_introduction_to_scikit_learn/02.1-Machine-Learning-Intro.ipynb\r\n",
      "200\t../15_summary/project\r\n"
     ]
    }
   ],
   "source": [
    "du -a .. | sort -rn | head -n 10"
   ]
  },
  {
   "cell_type": "markdown",
   "metadata": {},
   "source": [
    "Bash redirects"
   ]
  },
  {
   "cell_type": "code",
   "execution_count": 30,
   "metadata": {
    "collapsed": false
   },
   "outputs": [
    {
     "name": "stdout",
     "output_type": "stream",
     "text": []
    }
   ],
   "source": [
    "echo \"hei verden\" > hei.txt   # Save output to file"
   ]
  },
  {
   "cell_type": "code",
   "execution_count": 32,
   "metadata": {
    "collapsed": false
   },
   "outputs": [
    {
     "name": "stdout",
     "output_type": "stream",
     "text": [
      "2\r\n"
     ]
    }
   ],
   "source": [
    "wc -w < hei.txt    # Use file as input"
   ]
  },
  {
   "cell_type": "markdown",
   "metadata": {},
   "source": [
    "Stdout and stderr"
   ]
  },
  {
   "cell_type": "code",
   "execution_count": 46,
   "metadata": {
    "collapsed": false
   },
   "outputs": [
    {
     "name": "stdout",
     "output_type": "stream",
     "text": [
      "Hallo\r\n",
      "ls: invalid option -- 'y'\r\n",
      "Try 'ls --help' for more information.\r\n"
     ]
    }
   ],
   "source": [
    "echo \"Hallo\"   \n",
    "ls -y"
   ]
  },
  {
   "cell_type": "code",
   "execution_count": 55,
   "metadata": {
    "collapsed": false
   },
   "outputs": [
    {
     "name": "stdout",
     "output_type": "stream",
     "text": [
      "stdout: Hallo\r\n",
      "stderr: ls: invalid option -- 'y'\r\n"
     ]
    }
   ],
   "source": [
    "echo \"Hallo\" 1> stdout    # redirect stdout to file\n",
    "ls -y 2> stderr           # rediret stderr to file\n",
    "echo \"stdout: $(cat stdout)\"\n",
    "echo \"stderr: $(cat stderr | head -n 1)\""
   ]
  },
  {
   "cell_type": "markdown",
   "metadata": {},
   "source": [
    "### An example bash script: Send email when disk space is nearly full"
   ]
  },
  {
   "cell_type": "code",
   "execution_count": 9,
   "metadata": {
    "collapsed": false
   },
   "outputs": [
    {
     "name": "stdout",
     "output_type": "stream",
     "text": [
      "You've got enough space\r\n"
     ]
    }
   ],
   "source": [
    "MAX=90                 # warning threshold for disk space in percentage\n",
    "EMAIL=USER@domain.com  # email adress for warning recipient\n",
    "DISK=sda1              # disk identifier \n",
    "USAGE=$(df -h |grep $DISK | awk '{ print $5 }' | cut -d'%' -f1)\n",
    "\n",
    "if [ $USAGE -gt $MAX ]; then\n",
    "  echo \"Percent used: $USE\" | mail -s \"Running out of disk space\" $EMAIL\n",
    "else\n",
    "  echo \"You've got enough space\"\n",
    "fi"
   ]
  },
  {
   "cell_type": "markdown",
   "metadata": {},
   "source": [
    "\n",
    "\n",
    "### What next\n",
    "More material to read:\n",
    "* Get familiar with more UNIX commands (e.g. sed, find, ...)\n",
    "* Learn how to use Makefiles\n",
    "* Learning by doing"
   ]
  }
 ],
 "metadata": {
  "kernelspec": {
   "display_name": "Bash",
   "language": "bash",
   "name": "bash"
  },
  "language_info": {
   "codemirror_mode": "shell",
   "file_extension": ".sh",
   "mimetype": "text/x-sh",
   "name": "bash"
  }
 },
 "nbformat": 4,
 "nbformat_minor": 0
}
