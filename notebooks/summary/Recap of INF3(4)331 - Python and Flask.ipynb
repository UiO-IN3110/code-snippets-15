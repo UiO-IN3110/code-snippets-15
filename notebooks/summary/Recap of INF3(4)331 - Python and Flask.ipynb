{
 "cells": [
  {
   "cell_type": "markdown",
   "metadata": {},
   "source": [
    "# High-level programming: Python\n",
    "## Why\n",
    "\n",
    "1. Rapid development\n",
    "2. Powerfull\n",
    "3. Can be combined with other languages such as C to achieve high performance  \n",
    "4. Large community, widely used programming language\n",
    "5. Many powerful modules available - from machine learning to web servers"
   ]
  },
  {
   "cell_type": "markdown",
   "metadata": {},
   "source": [
    "## Data types"
   ]
  },
  {
   "cell_type": "code",
   "execution_count": 1,
   "metadata": {
    "collapsed": false
   },
   "outputs": [],
   "source": [
    "None, False, True\n",
    "i = 1\n",
    "f = 1.0\n",
    "s = \"Hallo\""
   ]
  },
  {
   "cell_type": "code",
   "execution_count": 2,
   "metadata": {
    "collapsed": false
   },
   "outputs": [],
   "source": [
    "l = [1, 's']\n",
    "\n",
    "t = (1, 3, 1, \"t\")\n",
    "# same as\n",
    "t = 1, 3, 1, \"t\"\n",
    "\n",
    "d = {1: \"Paris\",\n",
    "     2: \"London\",\n",
    "     3: \"Oslo\",\n",
    "    }\n",
    "\n",
    "s = set([1, 3, 1.0, \"t\"])"
   ]
  },
  {
   "cell_type": "markdown",
   "metadata": {},
   "source": [
    "## Conditions"
   ]
  },
  {
   "cell_type": "code",
   "execution_count": 3,
   "metadata": {
    "collapsed": false
   },
   "outputs": [
    {
     "data": {
      "text/plain": [
       "True"
      ]
     },
     "execution_count": 3,
     "metadata": {},
     "output_type": "execute_result"
    }
   ],
   "source": [
    "1 < 2 <= 3"
   ]
  },
  {
   "cell_type": "code",
   "execution_count": 4,
   "metadata": {
    "collapsed": false
   },
   "outputs": [
    {
     "data": {
      "text/plain": [
       "True"
      ]
     },
     "execution_count": 4,
     "metadata": {},
     "output_type": "execute_result"
    }
   ],
   "source": [
    "\"a\" < \"b\""
   ]
  },
  {
   "cell_type": "code",
   "execution_count": 5,
   "metadata": {
    "collapsed": false
   },
   "outputs": [
    {
     "data": {
      "text/plain": [
       "False"
      ]
     },
     "execution_count": 5,
     "metadata": {},
     "output_type": "execute_result"
    }
   ],
   "source": [
    "True and False"
   ]
  },
  {
   "cell_type": "code",
   "execution_count": 6,
   "metadata": {
    "collapsed": false
   },
   "outputs": [
    {
     "data": {
      "text/plain": [
       "True"
      ]
     },
     "execution_count": 6,
     "metadata": {},
     "output_type": "execute_result"
    }
   ],
   "source": [
    "(True or False) and True"
   ]
  },
  {
   "cell_type": "markdown",
   "metadata": {},
   "source": [
    "## Functions"
   ]
  },
  {
   "cell_type": "markdown",
   "metadata": {},
   "source": [
    "A simple function"
   ]
  },
  {
   "cell_type": "code",
   "execution_count": 7,
   "metadata": {
    "collapsed": true
   },
   "outputs": [],
   "source": [
    "def square(x):\n",
    "    return x**2"
   ]
  },
  {
   "cell_type": "markdown",
   "metadata": {},
   "source": [
    "Optional arguments:"
   ]
  },
  {
   "cell_type": "code",
   "execution_count": 8,
   "metadata": {
    "collapsed": false
   },
   "outputs": [],
   "source": [
    "def greet(a, b, c=\"Hallo\", d=\"go\"):\n",
    "    print \"{} {} {}, {}!\".format(c, a, b, d)"
   ]
  },
  {
   "cell_type": "code",
   "execution_count": 9,
   "metadata": {
    "collapsed": false
   },
   "outputs": [
    {
     "name": "stdout",
     "output_type": "stream",
     "text": [
      "Welcome Simon Funke, go!\n"
     ]
    }
   ],
   "source": [
    "a = greet(\"Simon\", \"Funke\", \"Welcome\")"
   ]
  },
  {
   "cell_type": "code",
   "execution_count": 10,
   "metadata": {
    "collapsed": false
   },
   "outputs": [
    {
     "name": "stdout",
     "output_type": "stream",
     "text": [
      "None\n"
     ]
    }
   ],
   "source": [
    "print a"
   ]
  },
  {
   "cell_type": "markdown",
   "metadata": {},
   "source": [
    "Function with arbitrary inputs:"
   ]
  },
  {
   "cell_type": "code",
   "execution_count": 11,
   "metadata": {
    "collapsed": false
   },
   "outputs": [],
   "source": [
    "def many_inputs(*args, **kwargs):\n",
    "    print \"args = \", args\n",
    "    print \"kwargs = \", kwargs"
   ]
  },
  {
   "cell_type": "code",
   "execution_count": 12,
   "metadata": {
    "collapsed": false
   },
   "outputs": [
    {
     "name": "stdout",
     "output_type": "stream",
     "text": [
      "args =  (1, 10.0, 's')\n",
      "kwargs =  {'info': 'Information'}\n"
     ]
    }
   ],
   "source": [
    "many_inputs(1, 10.0, \"s\", info=\"Information\")"
   ]
  },
  {
   "cell_type": "markdown",
   "metadata": {},
   "source": [
    "Function that returns multiple values:"
   ]
  },
  {
   "cell_type": "code",
   "execution_count": 13,
   "metadata": {
    "collapsed": true
   },
   "outputs": [],
   "source": [
    "def many_outputs():\n",
    "    a = 10\n",
    "    b = \"c\"\n",
    "    # do something\n",
    "    return a, b, a"
   ]
  },
  {
   "cell_type": "code",
   "execution_count": 14,
   "metadata": {
    "collapsed": false
   },
   "outputs": [],
   "source": [
    "r, s, t = many_outputs()"
   ]
  },
  {
   "cell_type": "markdown",
   "metadata": {},
   "source": [
    "This `unpacking` works also for nested tuples:"
   ]
  },
  {
   "cell_type": "code",
   "execution_count": 15,
   "metadata": {
    "collapsed": true
   },
   "outputs": [],
   "source": [
    "a, (b, c) = 1, (2, 3)"
   ]
  },
  {
   "cell_type": "markdown",
   "metadata": {},
   "source": [
    "## Classes"
   ]
  },
  {
   "cell_type": "code",
   "execution_count": 16,
   "metadata": {
    "collapsed": true
   },
   "outputs": [],
   "source": [
    "class BaseSolver(object):\n",
    "    name = \"BaseSolver\"\n",
    "\n",
    "    def __init__(self, params):\n",
    "        self.params = params\n",
    "        \n",
    "    def solve(self):\n",
    "        print \"{} is solving with parameters {}\".format(self.name, self.params)\n",
    "        \n",
    "    @classmethod\n",
    "    def print_name(cls):\n",
    "        print cls.name"
   ]
  },
  {
   "cell_type": "code",
   "execution_count": 17,
   "metadata": {
    "collapsed": false
   },
   "outputs": [],
   "source": [
    "base = BaseSolver({\"x\": 1})"
   ]
  },
  {
   "cell_type": "code",
   "execution_count": 18,
   "metadata": {
    "collapsed": false
   },
   "outputs": [
    {
     "name": "stdout",
     "output_type": "stream",
     "text": [
      "BaseSolver\n"
     ]
    }
   ],
   "source": [
    "base.print_name()"
   ]
  },
  {
   "cell_type": "code",
   "execution_count": 19,
   "metadata": {
    "collapsed": false
   },
   "outputs": [
    {
     "data": {
      "text/plain": [
       "{'x': 1}"
      ]
     },
     "execution_count": 19,
     "metadata": {},
     "output_type": "execute_result"
    }
   ],
   "source": [
    "base.params"
   ]
  },
  {
   "cell_type": "code",
   "execution_count": 20,
   "metadata": {
    "collapsed": false
   },
   "outputs": [
    {
     "name": "stdout",
     "output_type": "stream",
     "text": [
      "BaseSolver is solving with parameters {'x': 1}\n"
     ]
    }
   ],
   "source": [
    "base.solve()"
   ]
  },
  {
   "cell_type": "code",
   "execution_count": 21,
   "metadata": {
    "collapsed": false
   },
   "outputs": [],
   "source": [
    "class SpecialSolver(BaseSolver):\n",
    "    name = \"SpecialSolver\"\n",
    "\n",
    "    @property\n",
    "    def solution(self):\n",
    "        print \"Getting solution\"\n",
    "        \n",
    "    def __call__(self):\n",
    "        self.solve()"
   ]
  },
  {
   "cell_type": "code",
   "execution_count": 22,
   "metadata": {
    "collapsed": false
   },
   "outputs": [],
   "source": [
    "special = SpecialSolver({\"x\": 2})"
   ]
  },
  {
   "cell_type": "code",
   "execution_count": 23,
   "metadata": {
    "collapsed": false
   },
   "outputs": [
    {
     "name": "stdout",
     "output_type": "stream",
     "text": [
      "SpecialSolver\n"
     ]
    }
   ],
   "source": [
    "special.print_name()"
   ]
  },
  {
   "cell_type": "code",
   "execution_count": 24,
   "metadata": {
    "collapsed": false
   },
   "outputs": [
    {
     "name": "stdout",
     "output_type": "stream",
     "text": [
      "SpecialSolver is solving with parameters {'x': 2}\n"
     ]
    }
   ],
   "source": [
    "special.solve()"
   ]
  },
  {
   "cell_type": "code",
   "execution_count": 25,
   "metadata": {
    "collapsed": false
   },
   "outputs": [
    {
     "name": "stdout",
     "output_type": "stream",
     "text": [
      "Getting solution\n"
     ]
    }
   ],
   "source": [
    "special.solution"
   ]
  },
  {
   "cell_type": "markdown",
   "metadata": {},
   "source": [
    "Check class inheritance with:"
   ]
  },
  {
   "cell_type": "code",
   "execution_count": 26,
   "metadata": {
    "collapsed": false
   },
   "outputs": [
    {
     "data": {
      "text/plain": [
       "True"
      ]
     },
     "execution_count": 26,
     "metadata": {},
     "output_type": "execute_result"
    }
   ],
   "source": [
    "isinstance(special, BaseSolver)"
   ]
  },
  {
   "cell_type": "markdown",
   "metadata": {},
   "source": [
    "Show inheritance list (Method Resolution Order):"
   ]
  },
  {
   "cell_type": "code",
   "execution_count": 27,
   "metadata": {
    "collapsed": false
   },
   "outputs": [
    {
     "data": {
      "text/plain": [
       "(__main__.SpecialSolver, __main__.BaseSolver, object)"
      ]
     },
     "execution_count": 27,
     "metadata": {},
     "output_type": "execute_result"
    }
   ],
   "source": [
    "SpecialSolver.__mro__"
   ]
  },
  {
   "cell_type": "markdown",
   "metadata": {},
   "source": [
    "## Python Decorators"
   ]
  },
  {
   "cell_type": "markdown",
   "metadata": {},
   "source": [
    "*Basic idea*: Decorators allow you to inject or modify code in functions or classes."
   ]
  },
  {
   "cell_type": "markdown",
   "metadata": {},
   "source": [
    "A timing decorator"
   ]
  },
  {
   "cell_type": "code",
   "execution_count": 28,
   "metadata": {
    "collapsed": false
   },
   "outputs": [
    {
     "name": "stdout",
     "output_type": "stream",
     "text": [
      "slow_func 1.50158596039\n"
     ]
    }
   ],
   "source": [
    "import time \n",
    "\n",
    "def time_dec(func):\n",
    "\n",
    "  def wrapper(*arg):\n",
    "      start = time.time()\n",
    "      res = func(*arg)\n",
    "      end = time.time()\n",
    "      print func.func_name, end - start\n",
    "      return res\n",
    "\n",
    "  return wrapper\n",
    "\n",
    "@time_dec\n",
    "def slow_func(sec):\n",
    "    return time.sleep(sec)\n",
    "    \n",
    "slow_func(1.5)"
   ]
  },
  {
   "cell_type": "markdown",
   "metadata": {},
   "source": [
    "Other case ideas:\n",
    "* Count number function calls (coverage test).\n",
    "* Memoize function.\n",
    "* Pre/post conditions to functions (type check, input range check).\n",
    "* Add deprecation warnings to functions.\n",
    "* Redirect STDOUT/STDIN temporarly during a function execution.\n",
    "* py.test uses decorators to mark certain tests as slow or quick.\n",
    "* py.test uses parametrized decorators to parametrize tests."
   ]
  },
  {
   "cell_type": "markdown",
   "metadata": {},
   "source": [
    "## Exceptions"
   ]
  },
  {
   "cell_type": "code",
   "execution_count": 29,
   "metadata": {
    "collapsed": false
   },
   "outputs": [
    {
     "ename": "ZeroDivisionError",
     "evalue": "integer division or modulo by zero",
     "output_type": "error",
     "traceback": [
      "\u001b[1;31m---------------------------------------------------------------------------\u001b[0m",
      "\u001b[1;31mZeroDivisionError\u001b[0m                         Traceback (most recent call last)",
      "\u001b[1;32m<ipython-input-29-05c9758a9c21>\u001b[0m in \u001b[0;36m<module>\u001b[1;34m()\u001b[0m\n\u001b[1;32m----> 1\u001b[1;33m \u001b[1;36m1\u001b[0m\u001b[1;33m/\u001b[0m\u001b[1;36m0\u001b[0m\u001b[1;33m\u001b[0m\u001b[0m\n\u001b[0m",
      "\u001b[1;31mZeroDivisionError\u001b[0m: integer division or modulo by zero"
     ]
    }
   ],
   "source": [
    "1/0"
   ]
  },
  {
   "cell_type": "code",
   "execution_count": null,
   "metadata": {
    "collapsed": false
   },
   "outputs": [],
   "source": [
    "try:\n",
    "    1/0\n",
    "except ZeroDivisionError, e:\n",
    "    print \"Warning: divided by zero, but Ill be ignoring it\"\n",
    "    print \"Error message was: \", e"
   ]
  },
  {
   "cell_type": "code",
   "execution_count": null,
   "metadata": {
    "collapsed": false
   },
   "outputs": [],
   "source": [
    "raise ValueError, \"My error message\""
   ]
  },
  {
   "cell_type": "markdown",
   "metadata": {},
   "source": [
    "## Numpy"
   ]
  },
  {
   "cell_type": "code",
   "execution_count": 3,
   "metadata": {
    "collapsed": false
   },
   "outputs": [
    {
     "name": "stdout",
     "output_type": "stream",
     "text": [
      "[[ 0.  0.  0.  0.  0.]\n",
      " [ 0.  0.  0.  0.  0.]\n",
      " [ 0.  0.  0.  0.  0.]\n",
      " [ 0.  0.  0.  0.  0.]\n",
      " [ 0.  0.  0.  0.  0.]]\n"
     ]
    }
   ],
   "source": [
    "import numpy\n",
    "\n",
    "a1 = numpy.zeros((5, 5))\n",
    "print a1"
   ]
  },
  {
   "cell_type": "code",
   "execution_count": 4,
   "metadata": {
    "collapsed": false
   },
   "outputs": [
    {
     "name": "stdout",
     "output_type": "stream",
     "text": [
      "[[ 1.5  1.5  1.5  1.5  1.5]\n",
      " [ 1.5  1.5  1.5  1.5  1.5]\n",
      " [ 1.5  1.5  1.5  1.5  1.5]\n",
      " [ 1.5  1.5  1.5  1.5  1.5]\n",
      " [ 1.5  1.5  1.5  1.5  1.5]]\n"
     ]
    }
   ],
   "source": [
    "a1 += 1.5\n",
    "print a1"
   ]
  },
  {
   "cell_type": "code",
   "execution_count": 5,
   "metadata": {
    "collapsed": false
   },
   "outputs": [
    {
     "data": {
      "text/plain": [
       "array([ 0,  1,  2,  3,  4,  5,  6,  7,  8,  9, 10, 11, 12, 13, 14, 15, 16,\n",
       "       17, 18, 19, 20, 21, 22, 23, 24])"
      ]
     },
     "execution_count": 5,
     "metadata": {},
     "output_type": "execute_result"
    }
   ],
   "source": [
    "numpy.arange(25)"
   ]
  },
  {
   "cell_type": "code",
   "execution_count": 6,
   "metadata": {
    "collapsed": false
   },
   "outputs": [
    {
     "name": "stdout",
     "output_type": "stream",
     "text": [
      "[[ 0  1  2  3  4]\n",
      " [ 5  6  7  8  9]\n",
      " [10 11 12 13 14]\n",
      " [15 16 17 18 19]\n",
      " [20 21 22 23 24]]\n"
     ]
    }
   ],
   "source": [
    "a2 = numpy.arange(25).reshape(a1.shape)\n",
    "print a2"
   ]
  },
  {
   "cell_type": "code",
   "execution_count": 7,
   "metadata": {
    "collapsed": false
   },
   "outputs": [
    {
     "name": "stdout",
     "output_type": "stream",
     "text": [
      "[[ 0.99749499  0.59847214 -0.35078323 -0.97753012 -0.70554033]\n",
      " [ 0.21511999  0.93799998  0.79848711 -0.07515112 -0.87969576]\n",
      " [-0.87545217 -0.0663219   0.80378443  0.93489506  0.20646748]\n",
      " [-0.71178534 -0.97562601 -0.34248062  0.60553987  0.99682979]\n",
      " [ 0.471639   -0.48717451 -0.99808203 -0.59135753  0.35905835]]\n"
     ]
    }
   ],
   "source": [
    "a3 = numpy.sin(a1 + a2)\n",
    "print a3"
   ]
  },
  {
   "cell_type": "code",
   "execution_count": 8,
   "metadata": {
    "collapsed": false
   },
   "outputs": [
    {
     "data": {
      "text/plain": [
       "array([[ 0.93799998, -0.07515112],\n",
       "       [-0.0663219 ,  0.93489506],\n",
       "       [-0.97562601,  0.60553987],\n",
       "       [-0.48717451, -0.59135753]])"
      ]
     },
     "execution_count": 8,
     "metadata": {},
     "output_type": "execute_result"
    }
   ],
   "source": [
    "a3[1:5, 1::2]"
   ]
  },
  {
   "cell_type": "code",
   "execution_count": 9,
   "metadata": {
    "collapsed": false
   },
   "outputs": [
    {
     "data": {
      "text/plain": [
       "array([1, 2, 3])"
      ]
     },
     "execution_count": 9,
     "metadata": {},
     "output_type": "execute_result"
    }
   ],
   "source": [
    "numpy.asarray([1, 2, 3])"
   ]
  },
  {
   "cell_type": "code",
   "execution_count": 10,
   "metadata": {
    "collapsed": false
   },
   "outputs": [
    {
     "data": {
      "text/plain": [
       "array(['hallo', '2', '1.0'], \n",
       "      dtype='|S5')"
      ]
     },
     "execution_count": 10,
     "metadata": {},
     "output_type": "execute_result"
    }
   ],
   "source": [
    "numpy.asarray([\"hallo\", 2, 1.0])"
   ]
  },
  {
   "cell_type": "code",
   "execution_count": 11,
   "metadata": {
    "collapsed": false
   },
   "outputs": [
    {
     "data": {
      "text/plain": [
       "array(['1', 2, None], dtype=object)"
      ]
     },
     "execution_count": 11,
     "metadata": {},
     "output_type": "execute_result"
    }
   ],
   "source": [
    "numpy.asarray([\"1\", 2, None], dtype=object)"
   ]
  },
  {
   "cell_type": "code",
   "execution_count": 42,
   "metadata": {
    "collapsed": false
   },
   "outputs": [
    {
     "data": {
      "text/plain": [
       "<matplotlib.legend.Legend at 0x7f616b9c6510>"
      ]
     },
     "execution_count": 42,
     "metadata": {},
     "output_type": "execute_result"
    },
    {
     "data": {
      "image/png": "[encoded data removed]",
      "text/plain": [
       "<matplotlib.figure.Figure at 0x7f616bfa5d90>"
      ]
     },
     "metadata": {},
     "output_type": "display_data"
    }
   ],
   "source": [
    "import matplotlib\n",
    "%matplotlib inline\n",
    "import seaborn as sns\n",
    "\n",
    "# random x data from 0 to 2\n",
    "x = numpy.random.rand(20)*2\n",
    "x.sort()\n",
    "\n",
    "# random y data\n",
    "y = numpy.random.rand(len(x))\n",
    "\n",
    "matplotlib.pyplot.plot(x, y, label=\"random data\")\n",
    "matplotlib.pyplot.plot(x, x, label=\"linear data\")\n",
    "matplotlib.pyplot.plot(x, x**2, label=\"quadratic data\")\n",
    "\n",
    "matplotlib.pyplot.legend()"
   ]
  },
  {
   "cell_type": "markdown",
   "metadata": {},
   "source": [
    "## 'Pythonic' programming\n",
    "\n",
    "Python's philosophy:\n",
    "* readabile\n",
    "* minimalistic\n",
    "* \"there's one way to do it\" \n",
    "\n",
    "Pythonic means \"follows the Python idioms\": The Python language actively encourages a large number of idioms to accomplish a number of tasks (\"the one way to do it\").\n"
   ]
  },
  {
   "cell_type": "markdown",
   "metadata": {},
   "source": [
    "Some more good programming rules:\n",
    "* Minimise indentation   \n",
    "* Minimise code repetition\n",
    "* Minimise variable name lengths while keeping semantics intact"
   ]
  },
  {
   "cell_type": "markdown",
   "metadata": {},
   "source": [
    "### Pythonic Looping over lists\n",
    "Consider this C code for traversing a list:"
   ]
  },
  {
   "cell_type": "markdown",
   "metadata": {},
   "source": [
    "```C\n",
    "for (i=0; i < mylist_length; i++) {\n",
    "   do_something(mylist[i]);\n",
    "}\n",
    "```\n"
   ]
  },
  {
   "cell_type": "markdown",
   "metadata": {},
   "source": [
    "The equivalent Python translation would be:\n",
    "```python\n",
    "i = 0\n",
    "while i < len(mylist):\n",
    "   do_something(mylist[i])\n",
    "   i += 1\n",
    "```"
   ]
  },
  {
   "cell_type": "markdown",
   "metadata": {},
   "source": [
    "This code is not very Pythonic. A Python idiom is to generate all indexes with `range`:\n",
    "```python\n",
    "for i in range(len(mylist_length)):\n",
    "   do_something(mylist[i])\n",
    "```"
   ]
  },
  {
   "cell_type": "markdown",
   "metadata": {},
   "source": [
    "An even more Pythonic way is to use Python's functionality to loop over lists:\n",
    "```python\n",
    "for item in mylist:\n",
    "   do_something(item)\n",
    "```"
   ]
  },
  {
   "cell_type": "markdown",
   "metadata": {},
   "source": [
    "### Pythonic Looping over lists with indices\n",
    "\n",
    "What if your function requires both the item and the index in the list? Use:\n",
    "    \n",
    "```python\n",
    "for i, item in enumerate(mylist):\n",
    "   do_something(i, item)\n",
    "```"
   ]
  },
  {
   "cell_type": "markdown",
   "metadata": {},
   "source": [
    "### Swapping two (or more) variables\n",
    "Task: Swap varialbes `a` and `b`"
   ]
  },
  {
   "cell_type": "code",
   "execution_count": 43,
   "metadata": {
    "collapsed": true
   },
   "outputs": [],
   "source": [
    "a, b = 5, 6"
   ]
  },
  {
   "cell_type": "markdown",
   "metadata": {},
   "source": [
    "Non-Pythonic version"
   ]
  },
  {
   "cell_type": "code",
   "execution_count": null,
   "metadata": {
    "collapsed": false
   },
   "outputs": [],
   "source": [
    "a_tmp = a\n",
    "a = b\n",
    "b = a_tmp"
   ]
  },
  {
   "cell_type": "markdown",
   "metadata": {},
   "source": [
    "Pythonic version"
   ]
  },
  {
   "cell_type": "code",
   "execution_count": null,
   "metadata": {
    "collapsed": false
   },
   "outputs": [],
   "source": [
    "a, b = b, a"
   ]
  },
  {
   "cell_type": "markdown",
   "metadata": {},
   "source": [
    "### Create a comma sparated list"
   ]
  },
  {
   "cell_type": "markdown",
   "metadata": {},
   "source": [
    "Non-Pythonic"
   ]
  },
  {
   "cell_type": "code",
   "execution_count": null,
   "metadata": {
    "collapsed": false
   },
   "outputs": [],
   "source": [
    "cities = [\"London\", \"Oslo\", \"Paris\"]\n",
    "l = \"\"\n",
    "for c in cities:\n",
    "    l += c + \", \"\n",
    "l = l[:-2]\n",
    "print l"
   ]
  },
  {
   "cell_type": "markdown",
   "metadata": {},
   "source": [
    "Pythonic:"
   ]
  },
  {
   "cell_type": "code",
   "execution_count": null,
   "metadata": {
    "collapsed": false
   },
   "outputs": [],
   "source": [
    "cities = [\"London\", \"Oslo\", \"Paris\"]\n",
    "print ', '.join(cities)"
   ]
  },
  {
   "cell_type": "markdown",
   "metadata": {},
   "source": [
    "### Repeated variable name in condition"
   ]
  },
  {
   "cell_type": "markdown",
   "metadata": {},
   "source": [
    "Non-Pythonic"
   ]
  },
  {
   "cell_type": "code",
   "execution_count": null,
   "metadata": {
    "collapsed": false
   },
   "outputs": [],
   "source": [
    "city = \"Magdeburg\"\n",
    "\n",
    "if city == 'Lodon' or city == 'Oslo' or city == 'Paris':\n",
    "    is_captital = True"
   ]
  },
  {
   "cell_type": "markdown",
   "metadata": {},
   "source": [
    "Pythonic"
   ]
  },
  {
   "cell_type": "code",
   "execution_count": null,
   "metadata": {
    "collapsed": false
   },
   "outputs": [],
   "source": [
    "if city in ('Lodon', 'Oslo', 'Paris'):\n",
    "    is_captital = True"
   ]
  },
  {
   "cell_type": "markdown",
   "metadata": {},
   "source": [
    "### Create a list of greetings from names "
   ]
  },
  {
   "cell_type": "markdown",
   "metadata": {},
   "source": [
    "Non-Pythonic"
   ]
  },
  {
   "cell_type": "code",
   "execution_count": 57,
   "metadata": {
    "collapsed": true
   },
   "outputs": [],
   "source": [
    "names = [\"Petter\", \"Hans\", \"Georg\"]\n",
    "greeting = \"Dear\""
   ]
  },
  {
   "cell_type": "code",
   "execution_count": 58,
   "metadata": {
    "collapsed": false
   },
   "outputs": [
    {
     "name": "stdout",
     "output_type": "stream",
     "text": [
      "['Dear Petter', 'Dear Hans', 'Dear Georg']\n"
     ]
    }
   ],
   "source": [
    "greetings = []\n",
    "for name in names:\n",
    "    greetings.append(\"{} {}\".format(greeting, name))\n",
    "print greetings"
   ]
  },
  {
   "cell_type": "markdown",
   "metadata": {},
   "source": [
    "Pythonic"
   ]
  },
  {
   "cell_type": "code",
   "execution_count": 59,
   "metadata": {
    "collapsed": false
   },
   "outputs": [
    {
     "name": "stdout",
     "output_type": "stream",
     "text": [
      "['Dear Petter', 'Dear Hans', 'Dear Georg']\n"
     ]
    }
   ],
   "source": [
    "greetings = [\"{} {}\".format(greeting, name) for name in names]\n",
    "print greetings"
   ]
  },
  {
   "cell_type": "markdown",
   "metadata": {},
   "source": [
    "### Filter elements larger than 4"
   ]
  },
  {
   "cell_type": "markdown",
   "metadata": {},
   "source": [
    "Non-Pythonic"
   ]
  },
  {
   "cell_type": "code",
   "execution_count": 60,
   "metadata": {
    "collapsed": true
   },
   "outputs": [],
   "source": [
    "# Filter elements greater than 4\n",
    "a = [3, 4, 5]\n",
    "b = []\n",
    "for i in a:\n",
    "    if i > 4:\n",
    "        b.append(i)"
   ]
  },
  {
   "cell_type": "markdown",
   "metadata": {},
   "source": [
    "Pythonic"
   ]
  },
  {
   "cell_type": "code",
   "execution_count": 61,
   "metadata": {
    "collapsed": true
   },
   "outputs": [],
   "source": [
    "b = [i for i in a if i > 4]"
   ]
  },
  {
   "cell_type": "markdown",
   "metadata": {},
   "source": [
    "### What next"
   ]
  },
  {
   "cell_type": "markdown",
   "metadata": {},
   "source": [
    "* Look at the [Flask project](https://github.com/mitsuhiko/flask/blob/master/flask/app.py) source code for an example for a Pythonic project. [Here](http://flask.pocoo.org/docs/0.10/api/#flask.Flask) is the Sphinx generated documentation from that source code.\n",
    "* Use sphinx to automatically generate a documentation for your project \n",
    "* Use [readthedocs](readthedocs.org) to automatically publish documentation online\n",
    "* Learn `map`, `reduce` and `lambda` functions\n",
    "\n",
    "Most importantly:\n",
    "* Use Python to make your daily work easier!"
   ]
  }
 ],
 "metadata": {
  "kernelspec": {
   "display_name": "Python 2",
   "language": "python",
   "name": "python2"
  },
  "language_info": {
   "codemirror_mode": {
    "name": "ipython",
    "version": 2
   },
   "file_extension": ".py",
   "mimetype": "text/x-python",
   "name": "python",
   "nbconvert_exporter": "python",
   "pygments_lexer": "ipython2",
   "version": "2.7.6"
  }
 },
 "nbformat": 4,
 "nbformat_minor": 0
}
