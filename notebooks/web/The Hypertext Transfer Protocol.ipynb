{
 "cells": [
  {
   "cell_type": "markdown",
   "metadata": {},
   "source": [
    "# The Hypertext Transfer Protocol (HTTP)\n",
    "\n",
    "HTTP is a *request-response* protocole that enables communication between clients and servers. \n",
    "\n",
    "*Example*: \n",
    "1. A client (typically a web browser) submits an HTTP request to the server;\n",
    "2. The server (typically a web application) returns a response to the client. \n",
    "3. The response contains status information and the requested content.\n",
    "\n",
    "## HTTP request methods\n",
    "\n",
    "Two common HTTP Request Methods are:\n",
    "\n",
    "* GET - Requests data from a specified resource\n",
    "* POST - Submits data to be processed to a specified resource\n",
    "\n",
    "### The GET Method\n",
    "\n",
    "The simplest and most common operation made using HTTP is to get a URL. The URL could itself refer to a web page, an image or a file. The client issues a GET request to the server and receives the document it asked for. \n",
    "\n",
    "When opening a webpage in a webbrowser makes a GET request to get the URL. Alternatively, you can use curl to make a GET request from the command line:\n",
    "\n",
    "```bash\n",
    "curl -i https://www.wikipedia.org  # Retrieve HTML code of Wikipedia\n",
    "```\n",
    "\n",
    "We can add arguments to the URL in the form `argument1=value1&awrgument2=value2` and prefixed with a `?`. For example:\n",
    "```bash\n",
    "curl -i https://no.wikipedia.org/w/index.php?search=term&title=Special&\n",
    "```\n",
    "Here we pass the arguments:\n",
    "\n",
    "| Argument      | Value         |\n",
    "| ------------- |:-------------:|\n",
    "| search        | term          |\n",
    "| title         | Special       |\n",
    "\n",
    "**Remark**: Because all parameters are contained in the URL, \n",
    "* `GET` requests can be bookmarked;\n",
    "* `GET` requests are stored in the browser history;\n",
    "* `GET` requests should never change the state of the server;\n",
    "* `GET` requests are not suitable for transferring large or secret data.\n",
    "\n",
    "\n",
    "### The POST Method\n",
    " \n",
    "With the POST method, the client sends the data separated from the URL. Thus you won't see any of it in the URL address field.\n",
    "\n",
    "POST requests are made when clicking the Submit button in a web form. Or we can use `curl`:\n",
    "```bash\n",
    "curl --verbose --data \"param1=value1&param2=value2\" http://httpbin.org/post\n",
    "```\n",
    "\n",
    "The post request looks like:\n",
    "```bash\n",
    "POST /upload_data HTTP/1.1\n",
    "Host: w3schools.com\n",
    "name1=value1&name2=value2\n",
    "```\n",
    "\n",
    "Note that the query string (name/value pairs) is sent in the HTTP message body of a POST request:\n",
    "\n",
    "\n",
    "**Remark: ** \n",
    "\n",
    "* `POST` requests do not remain in the browser history;\n",
    "* `POST` requests cannot be bookmarked;\n",
    "* `POST` requests have no restrictions on data length;\n",
    "* `POST` may change the state of the server."
   ]
  },
  {
   "cell_type": "markdown",
   "metadata": {},
   "source": [
    "# HTML forms\n",
    "\n"
   ]
  },
  {
   "cell_type": "markdown",
   "metadata": {},
   "source": [
    "HTML forms can make either `GET` and `POST` requests. Use the `method` keyword to specify the request method (default is `GET`)."
   ]
  },
  {
   "cell_type": "markdown",
   "metadata": {},
   "source": [
    "## `GET` form example"
   ]
  },
  {
   "cell_type": "code",
   "execution_count": 11,
   "metadata": {
    "collapsed": false
   },
   "outputs": [
    {
     "data": {
      "text/html": [
       "<form action=\"search_user\" method=\"get\">\n",
       "  First name: <input type=\"text\" name=\"firstname\"><br>\n",
       "  Last name: <input type=\"text\" name=\"lastname\"><br>\n",
       "  <input type=\"submit\" value=\"Submit\">\n",
       "</form>"
      ],
      "text/plain": [
       "<IPython.core.display.HTML object>"
      ]
     },
     "metadata": {},
     "output_type": "display_data"
    }
   ],
   "source": [
    "%%html \n",
    "<form action=\"search_user\" method=\"get\">\n",
    "  First name: <input type=\"text\" name=\"firstname\"><br>\n",
    "  Last name: <input type=\"text\" name=\"lastname\"><br>\n",
    "  <input type=\"submit\" value=\"Submit\">\n",
    "</form>"
   ]
  },
  {
   "cell_type": "markdown",
   "metadata": {},
   "source": [
    "## `POST` form example"
   ]
  },
  {
   "cell_type": "code",
   "execution_count": 15,
   "metadata": {
    "collapsed": false
   },
   "outputs": [
    {
     "data": {
      "text/html": [
       "<form action=\"http://httpbin.org/post\" method=\"post\">\n",
       "  Mairst name: <input type=\"text\" name=\"firstname\"><br>\n",
       "  Last name: <input type=\"text\" name=\"lastname\"><br>\n",
       "  <input type=\"submit\" value=\"Submit\">\n",
       "</form>"
      ],
      "text/plain": [
       "<IPython.core.display.HTML object>"
      ]
     },
     "metadata": {},
     "output_type": "display_data"
    }
   ],
   "source": [
    "%%html \n",
    "<form action=\"search_user\" method=\"post\">\n",
    "  Mairst name: <input type=\"text\" name=\"firstname\"><br>\n",
    "  Last name: <input type=\"text\" name=\"lastname\"><br>\n",
    "  <input type=\"submit\" value=\"Submit\">\n",
    "</form>"
   ]
  },
  {
   "cell_type": "markdown",
   "metadata": {},
   "source": [
    "## A detailed example of GET and POST requests\n",
    "\n",
    "## Get request\n",
    "```bash\n",
    ">> curl --verbose http://httpbin.org/html?data=value\n",
    "* Connected to httpbin.org (54.175.219.8) port 80 (#0)\n",
    "...\n",
    "> GET /html HTTP/1.1\n",
    "> User-Agent: curl/7.38.0\n",
    "> Host: httpbin.org\n",
    "> Accept: */*\n",
    "> \n",
    "< HTTP/1.1 200 OK\n",
    "* Server nginx is not blacklisted\n",
    "< Server: nginx\n",
    "< Date: Tue, 10 Nov 2015 05:05:49 GMT\n",
    "< Content-Type: text/html; charset=utf-8\n",
    "< Content-Length: 3741\n",
    "< Connection: keep-alive\n",
    "< Access-Control-Allow-Origin: *\n",
    "< Access-Control-Allow-Credentials: true\n",
    "<\n",
    "<!DOCTYPE html>\n",
    "<html>\n",
    "  <head>\n",
    "...\n",
    "```\n",
    "\n",
    "## POST request\n",
    "```bash\n",
    "curl --verbose --data \"param1=value1&param2=value2\" http://httpbin.org/post\n",
    "\n",
    "* Connected to httpbin.org (54.175.222.246) port 80 (#0)\n",
    "> POST /post HTTP/1.1\n",
    "> User-Agent: curl/7.38.0\n",
    "> Host: httpbin.org\n",
    "> Accept: */*\n",
    "> Content-Length: 27\n",
    "> Content-Type: application/x-www-form-urlencoded\n",
    "> \n",
    "* upload completely sent off: 27 out of 27 bytes\n",
    "< HTTP/1.1 200 OK\n",
    "* Server nginx is not blacklisted\n",
    "< Server: nginx\n",
    "< Date: Tue, 10 Nov 2015 05:02:21 GMT\n",
    "< Content-Type: application/json\n",
    "< Content-Length: 389\n",
    "< Connection: keep-alive\n",
    "< Access-Control-Allow-Origin: *\n",
    "< Access-Control-Allow-Credentials: true\n",
    "< \n",
    "{\n",
    "  \"args\": {}, \n",
    "  \"data\": \"\", \n",
    "  \"files\": {}, \n",
    "  \"form\": {\n",
    "    \"param1\": \"value1\", \n",
    "    \"param2\": \"value2\"\n",
    "  }, \n",
    "...\n",
    "```\n"
   ]
  }
 ],
 "metadata": {
  "kernelspec": {
   "display_name": "Python 2",
   "language": "python",
   "name": "python2"
  },
  "language_info": {
   "codemirror_mode": {
    "name": "ipython",
    "version": 2
   },
   "file_extension": ".py",
   "mimetype": "text/x-python",
   "name": "python",
   "nbconvert_exporter": "python",
   "pygments_lexer": "ipython2",
   "version": "2.7.9"
  }
 },
 "nbformat": 4,
 "nbformat_minor": 0
}
