{
 "cells": [
  {
   "cell_type": "markdown",
   "metadata": {},
   "source": [
    "# The micro web application framework Flask"
   ]
  },
  {
   "cell_type": "markdown",
   "metadata": {},
   "source": [
    "## What is Flask?\n",
    "\n",
    "Flask is a micro web application framework.  \n",
    "\n",
    "You can use Flask to:\n",
    "* Build a static website (blog, private homepage)\n",
    "* Build dynamic websites\n",
    "* Build an API server (application interface)\n",
    "\n",
    "Some features:\n",
    "* Development server and debugger\n",
    "* Integrated support for unit testing\n",
    "* Unicode-based\n",
    "* Open-source\n",
    "* Flask is used by some larger companies such as Pinterest and LinkedIn, giving it some credibility.\n",
    "\n",
    "\n",
    "Flask comes with an HTTP server that can serve static or dynamically generated HTML documents - or any other tpyes of documents.\n",
    "\n",
    "### Documentation\n",
    "\n",
    "http://flask.pocoo.org/docs\n",
    "\n",
    "\n",
    "### Alternative platforms\n",
    "* Django (https://www.djangoproject.com)\n",
    "* Tornado (http://www.tornadoweb.org/en/stable/)\n",
    "* Ruby on Rails (http://rubyonrails.org) \n",
    "\n",
    "Flask has no database abstraction layer, no form validation or similar advanced features. This differentiates it from other web frameworks such as Ruby on Rails or Django.\n",
    "However, you can use third-party extensions to obtain the additional functionality of more advanced web applications."
   ]
  },
  {
   "cell_type": "markdown",
   "metadata": {},
   "source": [
    "## Hello world in Flask"
   ]
  },
  {
   "cell_type": "code",
   "execution_count": 1,
   "metadata": {
    "collapsed": false
   },
   "outputs": [],
   "source": [
    "# File: my_webserver.py\n",
    "from flask import Flask\n",
    "app = Flask(__name__)\n",
    "\n",
    "@app.route(\"/\")\n",
    "def hello():\n",
    "    return \"Hello World!\"\n",
    "\n",
    "if __name__==\"__main__\":\n",
    "    app.run()"
   ]
  },
  {
   "cell_type": "markdown",
   "metadata": {},
   "source": [
    "Run the flask server with:\n",
    "```bash\n",
    "python my_webserver.py\n",
    "   * Running on http://localhost:5000/\n",
    "```            \n",
    "\n",
    "Then open http://localhost:5000/ in your web browser. To stop the server, hit `Control-C`.\n"
   ]
  },
  {
   "cell_type": "markdown",
   "metadata": {},
   "source": [
    "## What happened?\n",
    "\n",
    "```python\n",
    "from flask import Flask\n",
    "app = Flask(__name__)\n",
    "```\n",
    "An instance of the `Flask` class is our web application.\n",
    "The first argument is needed so that Flask knows where to look for templates, static files, and so on.  If you are using a single module, `__name__` is always the correct value ([more info](http://flask.pocoo.org/docs/0.10/api/#flask.Flask)). \n",
    "\n",
    "```python\n",
    "@app.route(\"/\")\n",
    "def hello():\n",
    "    return \"Hello World!\"\n",
    "```\n",
    "\n",
    "We then use the route() decorator to tell Flask what URL should trigger our function. By default, Flask answers to GET requests, and the return value of the function is the answer of the `GET` request.\n",
    "\n",
    "```python\n",
    "if __name__ == \"__main__\":\n",
    "    app.run()\n",
    "```\n",
    "\n",
    "Finally we use the `run()` function to run the local server with our application. \n",
    "\n",
    "**Note**: You need to restart the sever when changing your code.\n",
    "\n",
    "**Debug mode**: You can use `app.run(debug=True)` to see more detailed error output. Also, in debug mode the server will reload itself on code changes. \n",
    "\n",
    "If you want your server to be accessible from your entire network, you need to launch the server with:\n",
    "```python\n",
    "app.run(host='0.0.0.0')\n",
    "```\n",
    "**Important**: This allows *anyone* in your network to access your webbrowser, which might be a severe security riks!"
   ]
  },
  {
   "cell_type": "markdown",
   "metadata": {},
   "source": [
    "## Adding more URLs"
   ]
  },
  {
   "cell_type": "markdown",
   "metadata": {},
   "source": [
    "We can serve additional URLs by adding new functions with the route decorator:"
   ]
  },
  {
   "cell_type": "code",
   "execution_count": 2,
   "metadata": {
    "collapsed": false
   },
   "outputs": [],
   "source": [
    "users = {\"richard\": \"Richard Lee\",\n",
    "         \"john\": \"John Smith\"}\n",
    "\n",
    "@app.route('/user')\n",
    "def show_user_overview():\n",
    "    users_str = \"<br>\".join(users.values())\n",
    "    return '<h1>Our users</h1><br>{}'.format(users_str)"
   ]
  },
  {
   "cell_type": "markdown",
   "metadata": {},
   "source": [
    "Matches only http://localhost:5000/user"
   ]
  },
  {
   "cell_type": "code",
   "execution_count": 3,
   "metadata": {
    "collapsed": true
   },
   "outputs": [],
   "source": [
    "\n",
    "\n",
    "@app.route('/user/<username>')\n",
    "def show_user_profile(username):\n",
    "    # show the user profile for that user\n",
    "    return 'User %s' % username"
   ]
  },
  {
   "cell_type": "markdown",
   "metadata": {},
   "source": [
    "Matches http://localhost:5000/user/NAME for any `NAME`"
   ]
  },
  {
   "cell_type": "code",
   "execution_count": null,
   "metadata": {
    "collapsed": false
   },
   "outputs": [
    {
     "name": "stderr",
     "output_type": "stream",
     "text": [
      "ERROR:__main__:Exception on /user [GET]\n",
      "Traceback (most recent call last):\n",
      "  File \"/usr/local/lib/python2.7/dist-packages/flask/app.py\", line 1817, in wsgi_app\n",
      "    response = self.full_dispatch_request()\n",
      "  File \"/usr/local/lib/python2.7/dist-packages/flask/app.py\", line 1477, in full_dispatch_request\n",
      "    rv = self.handle_user_exception(e)\n",
      "  File \"/usr/local/lib/python2.7/dist-packages/flask/app.py\", line 1381, in handle_user_exception\n",
      "    reraise(exc_type, exc_value, tb)\n",
      "  File \"/usr/local/lib/python2.7/dist-packages/flask/app.py\", line 1475, in full_dispatch_request\n",
      "    rv = self.dispatch_request()\n",
      "  File \"/usr/local/lib/python2.7/dist-packages/flask/app.py\", line 1461, in dispatch_request\n",
      "    return self.view_functions[rule.endpoint](**req.view_args)\n",
      "  File \"<ipython-input-2-a2bb5d5ec187>\", line 7, in show_user_overview\n",
      "    return '<h1>Our users</h1><br>{}'.format(users_str)\n",
      "NameError: global name 'users_str' is not defined\n"
     ]
    }
   ],
   "source": [
    "app.run()"
   ]
  },
  {
   "cell_type": "markdown",
   "metadata": {},
   "source": [
    "## Templates"
   ]
  },
  {
   "cell_type": "markdown",
   "metadata": {},
   "source": [
    "So far our webserver only served simple textstrings, but no HTML documents. \n",
    "\n",
    "One solution would be to define the entire HTML string in the URL handler, e.g.:\n",
    "\n",
    "```python\n",
    "@app.route('/login')\n",
    "def login():\n",
    "    return '''\n",
    "<html>\n",
    "<header><title>The title</title></header>\n",
    "<body>\n",
    "Hello world\n",
    "</body>\n",
    "</html>    \n",
    "    '''\n",
    "```\n",
    "\n",
    "However, Flask comes with a templating system that makes our life a lot easier:"
   ]
  },
  {
   "cell_type": "code",
   "execution_count": 17,
   "metadata": {
    "collapsed": false
   },
   "outputs": [],
   "source": [
    "from flask import render_template\n",
    "\n",
    "@app.route('/post/')\n",
    "@app.route('/post/<name>')\n",
    "def post(name=None):\n",
    "    return render_template('post.html', name=name)"
   ]
  },
  {
   "cell_type": "markdown",
   "metadata": {},
   "source": [
    "Flask will look for templates in the `templates` folder."
   ]
  },
  {
   "cell_type": "code",
   "execution_count": 18,
   "metadata": {
    "collapsed": false
   },
   "outputs": [
    {
     "name": "stdout",
     "output_type": "stream",
     "text": [
      "./templates/post.html\r\n"
     ]
    }
   ],
   "source": [
    "%ls ./templates/post.html"
   ]
  },
  {
   "cell_type": "markdown",
   "metadata": {
    "collapsed": false
   },
   "source": [
    "```html\n",
    "<!-- ./templates/post.html -->\n",
    "\n",
    "<!doctype html>\n",
    "<title>Hello from Flask</title>\n",
    "{% if name %}\n",
    "  <h1>Displaying blog post {{ name }}!</h1>\n",
    "{% else %}\n",
    "  <h1>No post name given!</h1>\n",
    "{% endif %}\n",
    "```"
   ]
  },
  {
   "cell_type": "code",
   "execution_count": 19,
   "metadata": {
    "collapsed": false
   },
   "outputs": [],
   "source": [
    "app.run()"
   ]
  },
  {
   "cell_type": "markdown",
   "metadata": {},
   "source": [
    "## HTML form"
   ]
  },
  {
   "cell_type": "markdown",
   "metadata": {},
   "source": [
    "Using the template, we can now create a HTML form with a `POST` requets"
   ]
  },
  {
   "cell_type": "markdown",
   "metadata": {
    "collapsed": false,
    "scrolled": false
   },
   "source": [
    "```html\n",
    "<!-- ./templates/login.html -->\n",
    "\n",
    "<!doctype html>\n",
    "<title>Login</title>\n",
    "\n",
    "{% if error %}\n",
    "<p style=\"color:red\">{{ error }}</p>\n",
    "{% endif %}\n",
    "\n",
    "<form action=\"handle_login\" method=\"POST\">\n",
    "    Username:\n",
    "    <br>\n",
    "    <input type=\"text\" name=\"username\">\n",
    "    <br>\n",
    "    Password:\n",
    "    <br>\n",
    "    <input type=\"password\" name=\"password\">\n",
    "    <br>\n",
    "    <input type=\"submit\" value=\"Submit\">\n",
    "</form>\n",
    "```\n"
   ]
  },
  {
   "cell_type": "code",
   "execution_count": null,
   "metadata": {
    "collapsed": false
   },
   "outputs": [],
   "source": [
    "@app.route('/login')\n",
    "def login():\n",
    "    return render_template('login.html')"
   ]
  },
  {
   "cell_type": "code",
   "execution_count": null,
   "metadata": {
    "collapsed": true
   },
   "outputs": [],
   "source": [
    "app.run()"
   ]
  },
  {
   "cell_type": "markdown",
   "metadata": {},
   "source": [
    "## Handling the `POST` request."
   ]
  },
  {
   "cell_type": "markdown",
   "metadata": {},
   "source": [
    "The form above sends a `POST` request to the `handle_login` URL. \n",
    "\n",
    "We can use \n",
    "```python\n",
    "@app.route('/handle_login', methods=['POST'])     \n",
    "```\n",
    "to create a new Flask handler that accepts `POST` requests.\n",
    "\n",
    "We can then use the \n",
    "```python\n",
    "flask.request\n",
    "```\n",
    "module to access the data in the `POST` request (here the username and password that the user provided in the form)."
   ]
  },
  {
   "cell_type": "code",
   "execution_count": null,
   "metadata": {
    "collapsed": true
   },
   "outputs": [],
   "source": [
    "from flask import request\n",
    "                                                                                                                                                                                                                                               \n",
    "@app.route('/handle_login', methods=['POST'])                                                                                                                                                                                                  \n",
    "def handle_login():           \n",
    "    \n",
    "    assert request.method == 'POST'   # Check that we are really in a POST request\n",
    "    \n",
    "    # Acces the form data:\n",
    "    username = request.form[\"username\"]\n",
    "    password = request.form[\"password\"]\n",
    "    \n",
    "    if username == \"simon\" and password == \"safe\":                                                                                                                                                             \n",
    "        return \"You are logged in Simon\"                                                                                                                                                                                                       \n",
    "    else:                                                                                                                                                                                                                                      \n",
    "        error = \"Invalid credentials\"                                                                                                                                                                                                          \n",
    "        return render_template(\"login.html\", error=error)     "
   ]
  },
  {
   "cell_type": "code",
   "execution_count": null,
   "metadata": {
    "collapsed": false
   },
   "outputs": [],
   "source": [
    "app.run()"
   ]
  }
 ],
 "metadata": {
  "kernelspec": {
   "display_name": "Python 2",
   "language": "python",
   "name": "python2"
  },
  "language_info": {
   "codemirror_mode": {
    "name": "ipython",
    "version": 2
   },
   "file_extension": ".py",
   "mimetype": "text/x-python",
   "name": "python",
   "nbconvert_exporter": "python",
   "pygments_lexer": "ipython2",
   "version": "2.7.9"
  }
 },
 "nbformat": 4,
 "nbformat_minor": 0
}
